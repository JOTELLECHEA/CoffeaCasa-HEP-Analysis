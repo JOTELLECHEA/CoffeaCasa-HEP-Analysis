{
 "cells": [
  {
   "cell_type": "code",
   "execution_count": 1,
   "id": "198fe750-e765-4e8e-9fdd-126126bc7f14",
   "metadata": {
    "tags": []
   },
   "outputs": [],
   "source": [
    "from coffea.nanoevents import NanoEventsFactory, NanoAODSchema\n",
    "import matplotlib.pyplot as plt\n",
    "import mplhep as hep\n",
    "import awkward as ak\n",
    "import numpy as np\n",
    "import uproot\n",
    "import hist\n",
    "from functions import *\n",
    "NanoAODSchema.warn_missing_crossrefs = False\n",
    "hep.style.use('CMS')"
   ]
  },
  {
   "cell_type": "code",
   "execution_count": 2,
   "id": "94861c11-8c35-4462-a303-88f99ac44087",
   "metadata": {
    "tags": []
   },
   "outputs": [],
   "source": [
    "fname = 'root://eospublic.cern.ch//eos/opendata/cms/derived-data/AOD2NanoAODOutreachTool/ForHiggsTo4Leptons/Run2012B_DoubleElectron.root'"
   ]
  },
  {
   "cell_type": "code",
   "execution_count": 3,
   "id": "c72c170d-ce9a-41b6-8f6b-958b2595d50c",
   "metadata": {
    "tags": []
   },
   "outputs": [],
   "source": [
    "# Setting entry_stop=50000 will use the first 50000 events, this will make it run faster when trobuleshooting.\n",
    "allEvents = 0\n",
    "if allEvents == 1: numEvents = None\n",
    "else: numEvents = 50000\n",
    "events = NanoEventsFactory.from_root(fname, schemaclass=NanoAODSchema.v6, entry_stop=numEvents).events()"
   ]
  },
  {
   "cell_type": "code",
   "execution_count": 7,
   "id": "b247f085-30fb-48b2-a34f-a0341dc75020",
   "metadata": {
    "tags": []
   },
   "outputs": [
    {
     "data": {
      "text/plain": [
       "2480"
      ]
     },
     "execution_count": 7,
     "metadata": {},
     "output_type": "execute_result"
    }
   ],
   "source": [
    "selectedLeptons = LeptonSelectionForWBoson(events, 30, 0 , 'Electron', 1)\n",
    "# fourvec = selectedLeptons.Electron[:,0]\n",
    "# h1 = InvariantMassHist(selectedLeptons,1000)\n",
    "# cmsPlot(h1)\n",
    "len(selectedLeptons)"
   ]
  },
  {
   "cell_type": "code",
   "execution_count": 6,
   "id": "6a9b38ed-04f4-439c-8afb-6fbd3c32a96b",
   "metadata": {
    "tags": []
   },
   "outputs": [],
   "source": [
    "def LeptonSelectionForWBoson2(DATA, PT, ETA, FLAVOR, CHARGE):\n",
    "    ''' Event selection for W Boson canidates: lepton antilepton pair, lepton.pt > PT, lepton.eta > ETA and only 1 lepton.'''\n",
    "    x = DATA\n",
    "    mask_pT_eta = ak.all(x[FLAVOR].pt > PT, axis=-1) & ak.all(x[FLAVOR].eta > ETA, axis=-1)\n",
    "    x = x[mask_pT_eta]\n",
    "    mask_lepCount = ak.num(x[FLAVOR], axis=-1) == 1\n",
    "    x = x[mask_lepCount]\n",
    "    mask_charge = ak.all(x[FLAVOR].charge == CHARGE, axis=-1)\n",
    "    return x[mask_charge]"
   ]
  },
  {
   "cell_type": "code",
   "execution_count": 7,
   "id": "dbf67d4d-c1a3-4210-8064-f53e313a8f5f",
   "metadata": {
    "tags": []
   },
   "outputs": [
    {
     "data": {
      "text/plain": [
       "2480"
      ]
     },
     "execution_count": 7,
     "metadata": {},
     "output_type": "execute_result"
    }
   ],
   "source": [
    "test = LeptonSelectionForWBoson2(events, 30, 0 , 'Electron', 1)\n",
    "len(test)"
   ]
  },
  {
   "cell_type": "code",
   "execution_count": null,
   "id": "d292e6c4-1716-4fcf-a343-961fd4a8148a",
   "metadata": {},
   "outputs": [],
   "source": []
  }
 ],
 "metadata": {
  "kernelspec": {
   "display_name": "Python 3 (ipykernel)",
   "language": "python",
   "name": "python3"
  },
  "language_info": {
   "codemirror_mode": {
    "name": "ipython",
    "version": 3
   },
   "file_extension": ".py",
   "mimetype": "text/x-python",
   "name": "python",
   "nbconvert_exporter": "python",
   "pygments_lexer": "ipython3",
   "version": "3.8.16"
  }
 },
 "nbformat": 4,
 "nbformat_minor": 5
}
