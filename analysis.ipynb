{
 "cells": [
  {
   "cell_type": "code",
   "execution_count": 1,
   "id": "198fe750-e765-4e8e-9fdd-126126bc7f14",
   "metadata": {
    "tags": []
   },
   "outputs": [],
   "source": [
    "import pandas as pd \n",
    "import awkward as ak \n",
    "import numpy as np \n",
    "import uproot\n",
    "import vector\n",
    "vector.register_awkward()\n",
    "import hist\n",
    "import matplotlib.pyplot as plt\n",
    "from coffea.nanoevents import NanoEventsFactory, NanoAODSchema,TreeMakerSchema\n",
    "NanoAODSchema.warn_missing_crossrefs = False"
   ]
  },
  {
   "cell_type": "code",
   "execution_count": 2,
   "id": "94861c11-8c35-4462-a303-88f99ac44087",
   "metadata": {
    "tags": []
   },
   "outputs": [],
   "source": [
    "fname ='root://eospublic.cern.ch//eos/opendata/cms/derived-data/AOD2NanoAODOutreachTool/ForHiggsTo4Leptons/Run2012B_DoubleElectron.root'"
   ]
  },
  {
   "cell_type": "code",
   "execution_count": 10,
   "id": "c72c170d-ce9a-41b6-8f6b-958b2595d50c",
   "metadata": {
    "tags": []
   },
   "outputs": [],
   "source": [
    "events = NanoEventsFactory.from_root(fname,schemaclass=NanoAODSchema.v6).events()"
   ]
  },
  {
   "cell_type": "code",
   "execution_count": 11,
   "id": "d0645f2e-5357-43dd-8b6b-d5d089cdd477",
   "metadata": {
    "tags": []
   },
   "outputs": [],
   "source": [
    "TwoElectrons = events.Electron[ak.num(events.Electron) > 1]\n",
    "len(TwoElectrons);"
   ]
  },
  {
   "cell_type": "code",
   "execution_count": 12,
   "id": "f6effb6c-9846-4f30-8568-63ba81c88a45",
   "metadata": {
    "tags": []
   },
   "outputs": [],
   "source": [
    "TwoElectronsPM = TwoElectrons[TwoElectrons.charge[:,0]!=TwoElectrons.charge[:,1]]\n",
    "len(TwoElectronsPM);"
   ]
  },
  {
   "cell_type": "code",
   "execution_count": 6,
   "id": "f19c20b6-192d-40a4-883a-1f29f49ec7ab",
   "metadata": {
    "tags": []
   },
   "outputs": [
    {
     "data": {
      "text/plain": [
       "72.30443467258648"
      ]
     },
     "execution_count": 6,
     "metadata": {},
     "output_type": "execute_result"
    }
   ],
   "source": [
    "(TwoElectronsPM[0,0] + TwoElectronsPM[0,1]).mass"
   ]
  },
  {
   "cell_type": "code",
   "execution_count": 13,
   "id": "da7b0e4c-32f2-4315-8405-d8eee9871acd",
   "metadata": {
    "tags": []
   },
   "outputs": [],
   "source": [
    "h = hist.Hist.new.Regular(100, 0, 150, name='Invariant Mass[GeV/C^2]').Double()"
   ]
  },
  {
   "cell_type": "code",
   "execution_count": null,
   "id": "e9ef0c96-34b5-400f-9217-c9b23e53b0f8",
   "metadata": {
    "tags": []
   },
   "outputs": [],
   "source": [
    "for i in range(len(TwoElectronsPM)):\n",
    "    h.fill((TwoElectronsPM[i,0] + TwoElectronsPM[i,1]).mass)\n",
    "h.plot();"
   ]
  },
  {
   "cell_type": "code",
   "execution_count": null,
   "id": "602a1bfb-04c0-43fc-b964-76b813664cdb",
   "metadata": {
    "tags": []
   },
   "outputs": [],
   "source": [
    "plt.savefig(\"hist.jpg\")"
   ]
  },
  {
   "cell_type": "code",
   "execution_count": null,
   "id": "edb1f447-8464-4ff9-a9eb-e837be6ce54e",
   "metadata": {
    "tags": []
   },
   "outputs": [],
   "source": []
  },
  {
   "cell_type": "code",
   "execution_count": 9,
   "id": "ce7a25d0-f900-495c-afab-6a3a954da7f5",
   "metadata": {
    "tags": []
   },
   "outputs": [],
   "source": [
    "# fig, axs = plt.subplots(2, 2)\n",
    "# fig.suptitle('Electrons')\n",
    "# #pT\n",
    "# axs[0,0].hist(electron_pT, bins = 1000, range = [0, 300])\n",
    "# axs[0,0].set_xlabel('pT', fontsize=10)\n",
    "# axs[0,0].set_ylabel('Events', fontsize=10)\n",
    "# #charge\n",
    "# axs[0,1].hist(electron_charge, bins = 3, range = [-1, 1])\n",
    "# axs[0,1].set_xlabel('Charge', fontsize=10)\n",
    "# axs[0,1].set_ylabel('Events', fontsize=10)\n",
    "# #eta\n",
    "# axs[1,0].hist(electron_eta, bins = 1000, range = [-np.pi, np.pi])\n",
    "# axs[1,0].set_xlabel('eta', fontsize=10)\n",
    "# axs[1,0].set_ylabel('Events', fontsize=10)\n",
    "# #phi\n",
    "# axs[1,1].hist(electron_phi, bins = 1000, range = [-np.pi, np.pi])\n",
    "# axs[1,1].set_xlabel('phi', fontsize=10)\n",
    "# axs[1,1].set_ylabel('Events', fontsize=10)\n",
    "# fig.tight_layout(pad=1.0)\n",
    "# fig.savefig('electrons.jpg')\n",
    "# plt.show()"
   ]
  },
  {
   "cell_type": "code",
   "execution_count": null,
   "id": "9345f933-098e-4fae-aabb-6cfe47eeb96a",
   "metadata": {
    "tags": []
   },
   "outputs": [],
   "source": []
  },
  {
   "cell_type": "code",
   "execution_count": null,
   "id": "3be00085-10ca-4686-bf32-7838392bed63",
   "metadata": {
    "tags": []
   },
   "outputs": [],
   "source": []
  },
  {
   "cell_type": "code",
   "execution_count": null,
   "id": "369db729-8036-4dc7-ac6a-1b2e5ad6ffb2",
   "metadata": {},
   "outputs": [],
   "source": []
  }
 ],
 "metadata": {
  "kernelspec": {
   "display_name": "Python 3 (ipykernel)",
   "language": "python",
   "name": "python3"
  },
  "language_info": {
   "codemirror_mode": {
    "name": "ipython",
    "version": 3
   },
   "file_extension": ".py",
   "mimetype": "text/x-python",
   "name": "python",
   "nbconvert_exporter": "python",
   "pygments_lexer": "ipython3",
   "version": "3.8.16"
  }
 },
 "nbformat": 4,
 "nbformat_minor": 5
}
