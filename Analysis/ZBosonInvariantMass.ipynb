{
 "cells": [
  {
   "cell_type": "code",
   "execution_count": null,
   "id": "198fe750-e765-4e8e-9fdd-126126bc7f14",
   "metadata": {
    "tags": []
   },
   "outputs": [],
   "source": [
    "from coffea.nanoevents import NanoEventsFactory, NanoAODSchema\n",
    "import matplotlib.pyplot as plt\n",
    "import mplhep as hep\n",
    "import awkward as ak\n",
    "import numpy as np\n",
    "import uproot\n",
    "import hist\n",
    "\n",
    "NanoAODSchema.warn_missing_crossrefs = False\n",
    "hep.style.use(\"CMS\")"
   ]
  },
  {
   "cell_type": "code",
   "execution_count": null,
   "id": "53b4cb4d-68c1-4705-a872-029e5b9170ad",
   "metadata": {
    "tags": []
   },
   "outputs": [],
   "source": [
    "def ChargeOrdering(LEPTON):\n",
    "    ''' Sort charge from each event negative first then postive. '''\n",
    "    index = ak.argsort(LEPTON.charge)\n",
    "    return LEPTON[index]\n",
    "\n",
    "def LeptonSelection(DATA, PT, ETA, FLAVOR):\n",
    "    ''' Event selection: electron antielectron pair, electron.pt > PT, electron.eta > ETA,\n",
    "    ensures charge conservation and allows for 2 or 4 lepton pairs. '''\n",
    "    if FLAVOR == 'Electron': x = DATA.Electron\n",
    "    elif FLAVOR == 'Muon': x = DATA.Muon\n",
    "    mask_pT_eta = ak.all(x.pt > PT, axis=-1) & ak.all(x.eta > ETA, axis=-1)\n",
    "    x = x[mask_pT_eta]\n",
    "    mask_charge = ak.sum(x.charge, axis=-1) == 0\n",
    "    mask_2e = ak.num(x, axis=-1) == 2\n",
    "    mask_4e = ak.num(x, axis=-1) == 4\n",
    "    mask = mask_charge & (mask_2e | mask_4e)\n",
    "    return x[mask]\n",
    "\n",
    "def TwoLeptonIM(LEPTON):\n",
    "    twoLepVec = LEPTON[:,0].add(LEPTON[:,1])\n",
    "    return twoLepVec.mass\n",
    "\n",
    "def FourLeptonIM(LEPTON):\n",
    "    MASS = []\n",
    "    for i in range(2):\n",
    "        for j in range(2):\n",
    "            MASS.append((LEPTON[:,i].add(LEPTON[:,j+2])).mass)\n",
    "    return MASS\n",
    "\n",
    "def InvariantMassHist(LEPTON, BINS):\n",
    "    h = hist.Hist(hist.axis.Regular(BINS, 0, 180, name='Invariant Mass[GeV/C^2]'))\n",
    "    mask_2l = ak.num(LEPTON, axis=-1) == 2\n",
    "    mask_4l = ak.num(LEPTON, axis=-1) == 4\n",
    "    lep2 = LEPTON[mask_2l]\n",
    "    lep4 = LEPTON[mask_4l]\n",
    "    h.fill(TwoLeptonIM(lep2))\n",
    "    for i in range(4):\n",
    "        h.fill(FourLeptonIM(lep4)[i])\n",
    "    return h"
   ]
  },
  {
   "cell_type": "code",
   "execution_count": null,
   "id": "94861c11-8c35-4462-a303-88f99ac44087",
   "metadata": {
    "tags": []
   },
   "outputs": [],
   "source": [
    "fname = \"root://eospublic.cern.ch//eos/opendata/cms/derived-data/AOD2NanoAODOutreachTool/ForHiggsTo4Leptons/Run2012B_DoubleElectron.root\""
   ]
  },
  {
   "cell_type": "code",
   "execution_count": null,
   "id": "c72c170d-ce9a-41b6-8f6b-958b2595d50c",
   "metadata": {
    "tags": []
   },
   "outputs": [],
   "source": [
    "events = NanoEventsFactory.from_root(\n",
    "    fname, schemaclass=NanoAODSchema.v6, entry_stop=None\n",
    ").events()"
   ]
  },
  {
   "cell_type": "code",
   "execution_count": null,
   "id": "b247f085-30fb-48b2-a34f-a0341dc75020",
   "metadata": {
    "tags": []
   },
   "outputs": [],
   "source": [
    "selectedLeptons = ChargeOrdering(LeptonSelection(events, 20, 0, 'Electron'))\n",
    "h1 = InvariantMassHist(selectedLeptons,1000)"
   ]
  },
  {
   "cell_type": "code",
   "execution_count": null,
   "id": "26287e7f-bbce-46cf-98e7-485f6a95948e",
   "metadata": {
    "tags": []
   },
   "outputs": [],
   "source": [
    "f, ax = plt.subplots(figsize=(10, 5))\n",
    "hep.histplot(h1, label=r'Z $\\rightarrow$ 2e')\n",
    "ax.set_xlim(0, 180)\n",
    "ax.set_ylabel(\"Events\", fontsize=15)\n",
    "ax.set_xlabel(\"$M_{ee} [GeV/C^{2}]$\", fontsize=15)\n",
    "plt.legend(fontsize=15)\n",
    "plt.tight_layout()\n",
    "hep.cms.label(rlabel=\"pT > 20 GeV/C\")\n",
    "plt.savefig(\"pt20.jpg\")\n",
    "plt.show()"
   ]
  }
 ],
 "metadata": {
  "kernelspec": {
   "display_name": "Python 3 (ipykernel)",
   "language": "python",
   "name": "python3"
  },
  "language_info": {
   "codemirror_mode": {
    "name": "ipython",
    "version": 3
   },
   "file_extension": ".py",
   "mimetype": "text/x-python",
   "name": "python",
   "nbconvert_exporter": "python",
   "pygments_lexer": "ipython3",
   "version": "3.8.16"
  }
 },
 "nbformat": 4,
 "nbformat_minor": 5
}
